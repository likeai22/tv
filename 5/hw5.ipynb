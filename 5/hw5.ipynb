{
 "cells": [
  {
   "cell_type": "markdown",
   "metadata": {
    "collapsed": true,
    "pycharm": {
     "name": "#%% md\n"
    }
   },
   "source": [
    "## Задание 1\n",
    "Известно, что генеральная совокупность распределена нормально со средним квадратическим отклонением, равным 16.\n",
    "Найти доверительный интервал для оценки математического ожидания a с надежностью 0.95, если выборочная средняя M = 80, а объем выборки n = 256."
   ]
  },
  {
   "cell_type": "markdown",
   "source": [
    "Для доверительной вероятности $\\beta=0.95$ вычислим $\\alpha =1-\\beta=1-0.95=0.05$\n",
    "\n",
    "[В таблице нормального распределения](https://www.medcalc.org/manual/values-of-the-normal-distribution.php) находим квантиль уровня $1-\\frac{\\alpha }{2}=0.975, z_{\\alpha } = 1.96$\n",
    "\n",
    "Теперь можем найти точность $\\triangle =\\frac{\\sigma  z_{\\alpha }}{\\sqrt{n}}=\\frac{16}{16}\\cdot 1.96=1.96$\n",
    "\n",
    "Доверительный интервал для среднего с известной дисперсией имеет вид $\\left(\\bar{X}-\\frac{\\sigma  z_{\\alpha }}{\\sqrt{n}};\\bar{X}+\\frac{\\sigma  z_{\\alpha }}{\\sqrt{n}}\\right)$\n",
    "\n",
    "Искомый 95%-доверительный интервал имеет вид\n",
    "$(80 - 1.96; 80 + 1.96)$\n",
    "\n",
    "Ответ: $(78.04; 81.96)$"
   ],
   "metadata": {
    "collapsed": false
   }
  },
  {
   "cell_type": "code",
   "execution_count": 13,
   "outputs": [
    {
     "name": "stdout",
     "output_type": "stream",
     "text": [
      "[78.04; 81.96]\n"
     ]
    }
   ],
   "source": [
    "from numpy import sqrt\n",
    "from scipy import stats\n",
    "\n",
    "p = 0.95\n",
    "mean = 80\n",
    "std = 16\n",
    "n = 256\n",
    "\n",
    "se = std / sqrt(n)\n",
    "alpha = (1 - p) / 2\n",
    "z_alpha = stats.norm().isf(alpha)\n",
    "c_i = mean - z_alpha * se, mean + z_alpha * se\n",
    "print('[%.2f; %.2f]' % c_i)"
   ],
   "metadata": {
    "collapsed": false,
    "pycharm": {
     "name": "#%%\n"
    }
   }
  },
  {
   "cell_type": "markdown",
   "source": [
    "## Задание 2\n",
    "В результате 10 независимых измерений некоторой величины X, выполненных с одинаковой точностью, получены опытные данные:\n",
    "6.9, 6.1, 6.2, 6.8, 7.5, 6.3, 6.4, 6.9, 6.7, 6.1\n",
    "Предполагая, что результаты измерений подчинены нормальному закону распределения вероятностей, оценить истинное значение величины X при помощи доверительного интервала, покрывающего это значение с доверительной вероятностью 0,95."
   ],
   "metadata": {
    "collapsed": false
   }
  },
  {
   "cell_type": "code",
   "execution_count": 76,
   "outputs": [
    {
     "name": "stdout",
     "output_type": "stream",
     "text": [
      "Исходная выборка: [6.9, 6.1, 6.2, 6.8, 7.5, 6.3, 6.4, 6.9, 6.7, 6.1]\n",
      "Объем выборки: 10\n",
      "Среднее: 6.590000000000001\n",
      "Дисперсия выборки: 0.2032222222222223\n",
      "Среднеквадратическое отклонение выборки 0.4508017549014448\n"
     ]
    }
   ],
   "source": [
    "import numpy as np\n",
    "\n",
    "data = [6.9, 6.1, 6.2, 6.8, 7.5, 6.3, 6.4, 6.9, 6.7, 6.1]\n",
    "\n",
    "n = len(data)\n",
    "mean = np.array(data).mean()\n",
    "s = np.var(data, ddof=1)\n",
    "sd = np.std(data, ddof=1)\n",
    "\n",
    "print('Исходная выборка:', data)\n",
    "print('Объем выборки:', n)\n",
    "print('Среднее:', mean)\n",
    "print('Дисперсия выборки:', s)\n",
    "print('Среднеквадратическое отклонение выборки', sd)"
   ],
   "metadata": {
    "collapsed": false,
    "pycharm": {
     "name": "#%%\n"
    }
   }
  },
  {
   "cell_type": "markdown",
   "source": [
    "Среднее значение равно $\\bar{X}=6.59$, а выборочная дисперсия $D = 0.203(2)$\n",
    "\n",
    "Так как неизвестна дисперсия генеральной совокупности и $n < 30$, поэтому\n",
    "точность интервальной оценки $\\triangle =\\frac{D t_{\\alpha }}{\\sqrt{n}}$\n",
    "\n",
    "По таблице распределения Стьюдента находим $1-\\frac{\\alpha }{2}=0.975$ и, так как у нас $n − 1 = 10 − 1 = 9$ степеней свободы, определяем квантиль $t_{\\alpha } = 2.262$\n",
    "\n",
    "Теперь можем найти точность $\\triangle =\\frac{\\sqrt{D} t_{\\alpha }}{\\sqrt{n}} = \\frac{\\sqrt{0.20322} \\cdot 2.262}{\\sqrt{10}} \\approx 0.3225$\n",
    "\n",
    "Искомый 95%-доверительный интервал имеет вид $(6.59−0.3225; 6.59+0.3225) = (6.2675; 6.9125)$\n",
    "\n",
    "Ответ: $(6.2675; 6.9125)$"
   ],
   "metadata": {
    "collapsed": false,
    "pycharm": {
     "name": "#%% md\n"
    }
   }
  },
  {
   "cell_type": "code",
   "source": [
    "print(stats.t.ppf(0.025, n - 1))\n",
    "print(stats.t.ppf(0.975, n - 1))"
   ],
   "metadata": {
    "collapsed": false,
    "pycharm": {
     "name": "#%%\n"
    }
   },
   "execution_count": 54,
   "outputs": [
    {
     "name": "stdout",
     "output_type": "stream",
     "text": [
      "-2.262157162740992\n",
      "2.2621571627409915\n"
     ]
    }
   ]
  },
  {
   "cell_type": "code",
   "execution_count": 55,
   "outputs": [
    {
     "name": "stdout",
     "output_type": "stream",
     "text": [
      "[6.2675; 6.9125]\n"
     ]
    }
   ],
   "source": [
    "df = n - 1\n",
    "p = 0.95\n",
    "alpha = 1 - p\n",
    "# стандартная ошибка\n",
    "se = sd / n ** 0.5\n",
    "\n",
    "# функция считает один конец, а нам нужно два, поэтому делим на два\n",
    "t_value = stats.t(df).ppf(1 - alpha / 2)\n",
    "\n",
    "# доверительный интервал\n",
    "c_i = (mean - t_value * se, mean + t_value * se)\n",
    "print('[%.4f; %.4f]' % c_i)"
   ],
   "metadata": {
    "collapsed": false,
    "pycharm": {
     "name": "#%%\n"
    }
   }
  },
  {
   "cell_type": "markdown",
   "source": [
    "## Задание 3\n",
    "Утверждается, что шарики для подшипников, изготовленные автоматическим станком, имеют средний диаметр 17 мм.\n",
    "Используя односторонний критерий с α=0,05, проверить эту гипотезу, если в выборке из n=100 шариков средний диаметр\n",
    "оказался равным 17.5 мм, а дисперсия известна и равна 4 кв. мм."
   ],
   "metadata": {
    "collapsed": false,
    "pycharm": {
     "name": "#%% md\n"
    }
   }
  },
  {
   "cell_type": "markdown",
   "source": [
    "Использование доверительных интервалов часто считается альтернативным способом проверки гипотез. В нашем случае, если оценочное среднее значение генеральной совокупности 17 не попадает в 95% доверительный интервал, рассчитанный на основе выборочных данных, у нас будет достаточно оснований отклонить нулевую гипотезу."
   ],
   "metadata": {
    "collapsed": false,
    "pycharm": {
     "name": "#%% md\n"
    }
   }
  },
  {
   "cell_type": "code",
   "execution_count": 74,
   "outputs": [
    {
     "name": "stdout",
     "output_type": "stream",
     "text": [
      "[17.1032; 17.8968]\n"
     ]
    }
   ],
   "source": [
    "mean = 17.5\n",
    "df = n - 1\n",
    "alpha = 0.05\n",
    "se = sd / n ** 0.5\n",
    "\n",
    "t_value = stats.t.ppf(1 - alpha / 2, df)\n",
    "\n",
    "c_i = (mean - t_value * se, mean + t_value * se)\n",
    "print('[%.4f; %.4f]' % c_i)"
   ],
   "metadata": {
    "collapsed": false,
    "pycharm": {
     "name": "#%%\n"
    }
   }
  },
  {
   "cell_type": "markdown",
   "source": [
    "Ответ: 17 мм находится за пределами доверительного интервала, мы отвергаем нулевую гипотезу."
   ],
   "metadata": {
    "collapsed": false
   }
  },
  {
   "cell_type": "markdown",
   "source": [
    "## Задание 4\n",
    "Продавец утверждает, что средний вес пачки печенья составляет 200 г.\n",
    "Из партии извлечена выборка из 10 пачек. Вес каждой пачки составляет: 202, 203, 199, 197, 195, 201, 200, 204, 194, 190.\n",
    "Известно, что их веса распределены нормально.\n",
    "Верно ли утверждение продавца, если учитывать, что доверительная вероятность равна 99%?"
   ],
   "metadata": {
    "collapsed": false
   }
  },
  {
   "cell_type": "code",
   "execution_count": 78,
   "outputs": [
    {
     "name": "stdout",
     "output_type": "stream",
     "text": [
      "[193.9232; 203.0768]\n"
     ]
    }
   ],
   "source": [
    "data = [202, 203, 199, 197, 195, 201, 200, 204, 194, 190]\n",
    "\n",
    "n = len(data)\n",
    "mean = np.array(data).mean()\n",
    "s = np.var(data, ddof=1)\n",
    "sd = np.std(data, ddof=1)\n",
    "\n",
    "df = n - 1\n",
    "p = 0.99\n",
    "alpha = 1 - p\n",
    "se = sd / n ** 0.5\n",
    "\n",
    "t_value = stats.t.ppf(1 - alpha / 2, df)\n",
    "\n",
    "c_i = (mean - t_value * se, mean + t_value * se)\n",
    "print('[%.4f; %.4f]' % c_i)"
   ],
   "metadata": {
    "collapsed": false,
    "pycharm": {
     "name": "#%%\n"
    }
   }
  },
  {
   "cell_type": "markdown",
   "source": [
    "Ответ: Эксперимент показал, что значение заявленного среднего веса в 200 г находится в пределах доверительного интервала, поэтому можно сделать вывод, что нулевая гипотеза верна."
   ],
   "metadata": {
    "collapsed": false
   }
  }
 ],
 "metadata": {
  "kernelspec": {
   "display_name": "Python 3",
   "language": "python",
   "name": "python3"
  },
  "language_info": {
   "codemirror_mode": {
    "name": "ipython",
    "version": 2
   },
   "file_extension": ".py",
   "mimetype": "text/x-python",
   "name": "python",
   "nbconvert_exporter": "python",
   "pygments_lexer": "ipython2",
   "version": "2.7.6"
  }
 },
 "nbformat": 4,
 "nbformat_minor": 0
}