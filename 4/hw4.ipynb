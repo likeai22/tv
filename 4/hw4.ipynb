{
 "cells": [
  {
   "cell_type": "markdown",
   "metadata": {
    "collapsed": true,
    "pycharm": {
     "name": "#%% md\n"
    }
   },
   "source": [
    "## Задача 1\n",
    "Случайная непрерывная величина A имеет равномерное распределение на промежутке (200, 800].\n",
    "Найдите ее среднее значение и дисперсию."
   ]
  },
  {
   "cell_type": "code",
   "source": [
    "a = 201\n",
    "b = 800\n",
    "M = (a + b) / 2\n",
    "D = (b - a) ** 2 / 12\n",
    "print('Среднее -', M, 'дисперсия-', D)"
   ],
   "metadata": {
    "collapsed": false,
    "pycharm": {
     "name": "#%%\n"
    }
   },
   "execution_count": 1,
   "outputs": [
    {
     "name": "stdout",
     "output_type": "stream",
     "text": [
      "Среднее - 500.5 дисперсия- 29900.083333333332\n"
     ]
    }
   ]
  },
  {
   "cell_type": "markdown",
   "source": [
    "## Задача 2\n",
    "О случайной непрерывной равномерно распределенной величине B известно, что ее дисперсия равна 0.2.\n",
    "Можно ли найти правую границу величины B и ее среднее значение зная, что левая граница равна 0.5?\n",
    "Если да, найдите ее."
   ],
   "metadata": {
    "collapsed": false
   }
  },
  {
   "cell_type": "code",
   "execution_count": 2,
   "outputs": [
    {
     "name": "stdout",
     "output_type": "stream",
     "text": [
      "правая граница - 2.049193338482967 среднее значение - 1.2745966692414834\n"
     ]
    }
   ],
   "source": [
    "a = 0.5\n",
    "D = 0.2\n",
    "b = pow(12 * D, 1 / 2) + a\n",
    "M = (a + b) / 2\n",
    "print('правая граница -', b, 'среднее значение -', M)"
   ],
   "metadata": {
    "collapsed": false,
    "pycharm": {
     "name": "#%%\n"
    }
   }
  },
  {
   "cell_type": "markdown",
   "source": [
    "## Задача 3\n",
    "Непрерывная случайная величина X распределена нормально и задана плотностью распределения $f(x) = \\frac{1}{4\\sqrt{2 \\pi}} e ^ {- \\frac{(x + 2)^2}{32}}$\n",
    "\n",
    "Найдите:\n",
    " -  M(X)\n",
    " -  D(X)\n",
    " -  std(X) (среднее квадратичное отклонение)"
   ],
   "metadata": {
    "collapsed": false
   }
  },
  {
   "cell_type": "markdown",
   "source": [
    "Формула плотности нормального распределения $f(x) = \\frac{1}{\\sigma \\sqrt{2\\pi}} e^{-\\frac{1}{2}\\left(\\frac{x-\\mu}{\\sigma}\\right)^2}$\n",
    "\n",
    "Следовательно, $\\mu = M(X)$, $\\sigma^2 = D(X)$\n",
    "\n",
    "Отсюда\n",
    " -  $M(X) = -2$\n",
    " -  $D(X) = \\frac{32}{2} = 4^2 = 16$\n",
    " -  $std(X) = \\sqrt{D(X)}= 4$"
   ],
   "metadata": {
    "collapsed": false,
    "pycharm": {
     "name": "#%% md\n"
    }
   }
  },
  {
   "cell_type": "markdown",
   "source": [
    "## Задача 4\n",
    "Рост взрослого населения города X имеет нормальное распределение. Причем, средний рост равен 174 см, а среднее квадратичное отклонение равно 8 см. Какова вероятность того, что случайным образом выбранный взрослый человек имеет рост:\n",
    "- больше 182 см\n",
    "- больше 190 см\n",
    "- от 166 см до 190 см\n",
    "- от 166 см до 182 см\n",
    "- от 158 см до 190 см\n",
    "- не выше 150 см или не ниже 190 см\n",
    "- не выше 150 см или не ниже 198 см\n",
    "- ниже 166 см."
   ],
   "metadata": {
    "collapsed": false
   }
  },
  {
   "cell_type": "code",
   "execution_count": 14,
   "outputs": [],
   "source": [
    "import sympy as sym\n",
    "import numpy as np\n",
    "\n",
    "def i_m_laplace_phi(x):\n",
    "    z = sym.symbols('z')\n",
    "    pow_ = -z ** 2 / 2\n",
    "    e = sym.exp(1)\n",
    "    return float(1 / np.sqrt(2 * np.pi) * sym.integrate((e ** pow_), (z, 0, x)))\n",
    "\n",
    "def i_m_laplace_x(a, b, sigma):\n",
    "    if a and b and sigma != 0:\n",
    "        return (a - b) / sigma\n",
    "    else:\n",
    "        return 0.5\n",
    "\n",
    "def i_m_laplace(a, b, sigma):\n",
    "    x = i_m_laplace_x(a, b, sigma)\n",
    "    phi_of_x = i_m_laplace_phi(x)\n",
    "    return phi_of_x\n"
   ],
   "metadata": {
    "collapsed": false,
    "pycharm": {
     "name": "#%%\n"
    }
   }
  },
  {
   "cell_type": "markdown",
   "source": [
    "### Больше 182 см"
   ],
   "metadata": {
    "collapsed": false,
    "pycharm": {
     "name": "#%% md\n"
    }
   }
  },
  {
   "cell_type": "code",
   "execution_count": 20,
   "outputs": [
    {
     "name": "stdout",
     "output_type": "stream",
     "text": [
      "0.3413\n"
     ]
    }
   ],
   "source": [
    "a = 182\n",
    "b = 174\n",
    "sigma = 8\n",
    "P_182 = i_m_laplace(a, b, sigma)\n",
    "print(f'{P_182:.4f}')"
   ],
   "metadata": {
    "collapsed": false,
    "pycharm": {
     "name": "#%%\n"
    }
   }
  },
  {
   "cell_type": "markdown",
   "source": [
    "$P(X > 182) = P(182 < X < +inf) = Ф(+inf) - Ф(182 - 174/8) =\n",
    "= 0.5 - Ф(1) = 0.5 - 0.3413 = 0.1587$"
   ],
   "metadata": {
    "collapsed": false
   }
  },
  {
   "cell_type": "markdown",
   "source": [
    "### Больше 190 см"
   ],
   "metadata": {
    "collapsed": false
   }
  },
  {
   "cell_type": "code",
   "execution_count": 15,
   "outputs": [
    {
     "name": "stdout",
     "output_type": "stream",
     "text": [
      "0.4772\n"
     ]
    }
   ],
   "source": [
    "a = 190\n",
    "P_190 = i_m_laplace(a, b, sigma)\n",
    "print(f'{P_190:.4f}')"
   ],
   "metadata": {
    "collapsed": false,
    "pycharm": {
     "name": "#%%\n"
    }
   }
  },
  {
   "cell_type": "markdown",
   "source": [
    "$P(X > 190) = P(190<X<+inf) = Ф(+inf)-Ф(190-174/8) =\n",
    "= 0.5 - Ф(2) = 0.5 - 0.4772 = 0.0228$"
   ],
   "metadata": {
    "collapsed": false
   }
  },
  {
   "cell_type": "markdown",
   "source": [
    "### От 166 см до 190 см"
   ],
   "metadata": {
    "collapsed": false
   }
  },
  {
   "cell_type": "code",
   "source": [
    "a = 166\n",
    "P_166 = i_m_laplace(a, b, sigma)\n",
    "P_190 - P_166"
   ],
   "metadata": {
    "collapsed": false,
    "pycharm": {
     "name": "#%%\n"
    }
   },
   "execution_count": 18,
   "outputs": [
    {
     "data": {
      "text/plain": "0.8185946141203638"
     },
     "execution_count": 18,
     "metadata": {},
     "output_type": "execute_result"
    }
   ]
  },
  {
   "cell_type": "code",
   "execution_count": 19,
   "outputs": [
    {
     "data": {
      "text/plain": "-0.341344746068543"
     },
     "execution_count": 19,
     "metadata": {},
     "output_type": "execute_result"
    }
   ],
   "source": [
    "P_166"
   ],
   "metadata": {
    "collapsed": false,
    "pycharm": {
     "name": "#%%\n"
    }
   }
  },
  {
   "cell_type": "markdown",
   "source": [
    "$P(166 < X < 190) =\n",
    "Ф (190 - 174 / 8) - Ф (166 - 174 / 8) =\n",
    "Ф(2) - Ф(-1) = Ф(2) + Ф(1) = 0.4772 + 0.3413 = 0.8186$"
   ],
   "metadata": {
    "collapsed": false
   }
  },
  {
   "cell_type": "markdown",
   "source": [
    "### От 166 см до 182 см"
   ],
   "metadata": {
    "collapsed": false
   }
  },
  {
   "cell_type": "code",
   "execution_count": 21,
   "outputs": [
    {
     "data": {
      "text/plain": "0.682689492137086"
     },
     "execution_count": 21,
     "metadata": {},
     "output_type": "execute_result"
    }
   ],
   "source": [
    "P_182 - P_166"
   ],
   "metadata": {
    "collapsed": false,
    "pycharm": {
     "name": "#%%\n"
    }
   }
  },
  {
   "cell_type": "markdown",
   "source": [
    "$P(166 < X < 182) =\n",
    "Ф (182 - 174 / 8) - Ф (166 - 174 / 8) =\n",
    "Ф(1) - Ф(-1) = 2*Ф(1) = 0.6827$"
   ],
   "metadata": {
    "collapsed": false
   }
  },
  {
   "cell_type": "markdown",
   "source": [
    "### От 158 см до 190 см"
   ],
   "metadata": {
    "collapsed": false
   }
  },
  {
   "cell_type": "code",
   "execution_count": 22,
   "outputs": [
    {
     "data": {
      "text/plain": "0.9544997361036417"
     },
     "execution_count": 22,
     "metadata": {},
     "output_type": "execute_result"
    }
   ],
   "source": [
    "a = 158\n",
    "P_158 = i_m_laplace(a, b, sigma)\n",
    "P_190 - P_158"
   ],
   "metadata": {
    "collapsed": false,
    "pycharm": {
     "name": "#%%\n"
    }
   }
  },
  {
   "cell_type": "code",
   "execution_count": 23,
   "outputs": [
    {
     "data": {
      "text/plain": "-0.47724986805182085"
     },
     "execution_count": 23,
     "metadata": {},
     "output_type": "execute_result"
    }
   ],
   "source": [
    "P_158"
   ],
   "metadata": {
    "collapsed": false,
    "pycharm": {
     "name": "#%%\n"
    }
   }
  },
  {
   "cell_type": "markdown",
   "source": [
    "$P(158 < X < 190) =\n",
    "Ф (190 - 174 / 8) - Ф (158 - 174 / 8) =\n",
    "Ф(2) - Ф(-2) = Ф(2) + Ф(2) = 2 \\cdot 0.4772 = 0.9545$"
   ],
   "metadata": {
    "collapsed": false
   }
  },
  {
   "cell_type": "markdown",
   "source": [
    "### Не выше 150 см или не ниже 190 см"
   ],
   "metadata": {
    "collapsed": false
   }
  },
  {
   "cell_type": "code",
   "execution_count": 24,
   "outputs": [
    {
     "data": {
      "text/plain": "0.0241000299798092"
     },
     "execution_count": 24,
     "metadata": {},
     "output_type": "execute_result"
    }
   ],
   "source": [
    "a = 150\n",
    "P_150 = i_m_laplace(a, b, sigma)\n",
    "1 - (P_190 - P_150)"
   ],
   "metadata": {
    "collapsed": false,
    "pycharm": {
     "name": "#%%\n"
    }
   }
  },
  {
   "cell_type": "code",
   "execution_count": 25,
   "outputs": [
    {
     "data": {
      "text/plain": "-0.49865010196836995"
     },
     "execution_count": 25,
     "metadata": {},
     "output_type": "execute_result"
    }
   ],
   "source": [
    "P_150"
   ],
   "metadata": {
    "collapsed": false,
    "pycharm": {
     "name": "#%%\n"
    }
   }
  },
  {
   "cell_type": "markdown",
   "source": [
    "$1 - P(150 < X < 190) =\n",
    "1 - (Ф (190 - 174 / 8) - Ф (150 - 174 / 8)) =\n",
    "1 - (Ф(2) - Ф(-3)) = 1 - (Ф(2) + Ф(3)) = 1 - (0.4772 + 0.4987) = 0.0241$"
   ],
   "metadata": {
    "collapsed": false
   }
  },
  {
   "cell_type": "markdown",
   "source": [
    "### Не выше 150 см или не ниже 198 см"
   ],
   "metadata": {
    "collapsed": false
   }
  },
  {
   "cell_type": "code",
   "execution_count": 26,
   "outputs": [
    {
     "data": {
      "text/plain": "0.002699796063260096"
     },
     "execution_count": 26,
     "metadata": {},
     "output_type": "execute_result"
    }
   ],
   "source": [
    "a = 198\n",
    "P_198 = i_m_laplace(a, b, sigma)\n",
    "1 - (P_198 - P_150)"
   ],
   "metadata": {
    "collapsed": false,
    "pycharm": {
     "name": "#%%\n"
    }
   }
  },
  {
   "cell_type": "code",
   "execution_count": 27,
   "outputs": [
    {
     "data": {
      "text/plain": "0.49865010196836995"
     },
     "execution_count": 27,
     "metadata": {},
     "output_type": "execute_result"
    }
   ],
   "source": [
    "P_198"
   ],
   "metadata": {
    "collapsed": false,
    "pycharm": {
     "name": "#%%\n"
    }
   }
  },
  {
   "cell_type": "markdown",
   "source": [
    "$1 - P(150 < X < 198) =\n",
    "1 - (Ф (198 - 174 / 8) - Ф (150 - 174 / 8)) =\n",
    "Ф(3) - Ф(-3) = 1 - 2 \\cdot Ф(3) = 1 - 2 \\cdot 0.4987 = 0.0027$"
   ],
   "metadata": {
    "collapsed": false
   }
  },
  {
   "cell_type": "markdown",
   "source": [
    "### Ниже 166 см"
   ],
   "metadata": {
    "collapsed": false
   }
  },
  {
   "cell_type": "code",
   "execution_count": 30,
   "outputs": [
    {
     "data": {
      "text/plain": "-0.532807207342556"
     },
     "execution_count": 30,
     "metadata": {},
     "output_type": "execute_result"
    }
   ],
   "source": [
    "a = 0\n",
    "P_0 = i_m_laplace(a, b, sigma)\n",
    "P_166 - P_0"
   ],
   "metadata": {
    "collapsed": false,
    "pycharm": {
     "name": "#%%\n"
    }
   }
  },
  {
   "cell_type": "code",
   "execution_count": 31,
   "outputs": [
    {
     "data": {
      "text/plain": "0.19146246127401312"
     },
     "execution_count": 31,
     "metadata": {},
     "output_type": "execute_result"
    }
   ],
   "source": [
    "P_0"
   ],
   "metadata": {
    "collapsed": false,
    "pycharm": {
     "name": "#%%\n"
    }
   }
  },
  {
   "cell_type": "markdown",
   "source": [
    "$P(0 < X < 166) =\n",
    "Ф (166 - 174 / 8) - Ф (0 - 174 / 8) =\n",
    "Ф(-3) - Ф(-21.75) = Ф(21.75) - Ф(3) = -0.3413 - 0.1915 = -0.5328$"
   ],
   "metadata": {
    "collapsed": false
   }
  },
  {
   "cell_type": "markdown",
   "source": [
    "Исправим 0 на -inf"
   ],
   "metadata": {
    "collapsed": false,
    "pycharm": {
     "name": "#%% md\n"
    }
   }
  },
  {
   "cell_type": "code",
   "execution_count": 32,
   "outputs": [
    {
     "data": {
      "text/plain": "0.15865525393145702"
     },
     "execution_count": 32,
     "metadata": {},
     "output_type": "execute_result"
    }
   ],
   "source": [
    "P_166 - (-0.5)"
   ],
   "metadata": {
    "collapsed": false,
    "pycharm": {
     "name": "#%%\n"
    }
   }
  },
  {
   "cell_type": "markdown",
   "source": [
    "$P(-inf < X < 166) =\n",
    "Ф (166 - 174 / 8) - (-0.5) =\n",
    "Ф(-3) + 0.5 = -0.3413 + 0.5 = 0.1587$"
   ],
   "metadata": {
    "collapsed": false
   }
  },
  {
   "cell_type": "markdown",
   "source": [
    "## Задача 5\n",
    "На сколько сигм (средних квадратичных отклонений) отклоняется рост человека, равный 190 см, от математического ожидания роста в популяции, в которой M(X) = 178 см и D(X) = 25 кв.см?"
   ],
   "metadata": {
    "collapsed": false,
    "pycharm": {
     "name": "#%% md\n"
    }
   }
  },
  {
   "cell_type": "code",
   "execution_count": 40,
   "outputs": [
    {
     "name": "stdout",
     "output_type": "stream",
     "text": [
      "Ответ: на 2.40 сигмы\n"
     ]
    }
   ],
   "source": [
    "mean = 178\n",
    "x = 190\n",
    "D = 25\n",
    "std = D ** 0.5\n",
    "\n",
    "print(f'Ответ: на {(x - mean) / std:.2f} сигмы')"
   ],
   "metadata": {
    "collapsed": false,
    "pycharm": {
     "name": "#%%\n"
    }
   }
  }
 ],
 "metadata": {
  "kernelspec": {
   "name": "python3",
   "language": "python",
   "display_name": "Python 3 (ipykernel)"
  },
  "language_info": {
   "codemirror_mode": {
    "name": "ipython",
    "version": 2
   },
   "file_extension": ".py",
   "mimetype": "text/x-python",
   "name": "python",
   "nbconvert_exporter": "python",
   "pygments_lexer": "ipython2",
   "version": "2.7.6"
  }
 },
 "nbformat": 4,
 "nbformat_minor": 0
}