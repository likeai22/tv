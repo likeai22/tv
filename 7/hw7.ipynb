{
 "cells": [
  {
   "cell_type": "markdown",
   "metadata": {
    "collapsed": true,
    "pycharm": {
     "name": "#%% md\n"
    }
   },
   "source": [
    "## Задание 1\n",
    "Даны значения величины заработной платы заемщиков банка (zp) и значения их поведенческого кредитного скоринга (ks):\n",
    "\n",
    "zp = [35, 45, 190, 200, 40, 70, 54, 150, 120, 110]\n",
    "\n",
    "ks = [401, 574, 874, 919, 459, 739, 653, 902, 746, 832]\n",
    "\n",
    " Используя математические операции, посчитать коэффициенты линейной регрессии, приняв за X заработную плату (то есть, zp - признак), а за y - значения скорингового балла (то есть, ks - целевая переменная). Произвести расчет как с использованием intercept, так и без."
   ]
  },
  {
   "cell_type": "code",
   "execution_count": 1,
   "outputs": [],
   "source": [
    "import numpy as np\n",
    "import pandas as pd\n",
    "from matplotlib import pyplot as plt\n",
    "from scipy import stats\n",
    "\n",
    "plt.style.use('seaborn-whitegrid')"
   ],
   "metadata": {
    "collapsed": false,
    "pycharm": {
     "name": "#%%\n"
    }
   }
  },
  {
   "cell_type": "code",
   "execution_count": 2,
   "outputs": [],
   "source": [
    "zp = np.array([35, 45, 190, 200, 40, 70, 54, 150, 120, 110], dtype=np.float64)\n",
    "ks = np.array([401, 574, 874, 919, 459, 739, 653, 902, 746, 832], dtype=np.float64)"
   ],
   "metadata": {
    "collapsed": false,
    "pycharm": {
     "name": "#%%\n"
    }
   }
  },
  {
   "cell_type": "markdown",
   "source": [
    "### Расчет с использованием intercept"
   ],
   "metadata": {
    "collapsed": false
   }
  },
  {
   "cell_type": "code",
   "source": [
    "x = zp\n",
    "y = ks"
   ],
   "metadata": {
    "collapsed": false,
    "pycharm": {
     "name": "#%%\n"
    }
   },
   "execution_count": 3,
   "outputs": []
  },
  {
   "cell_type": "markdown",
   "source": [
    "Коэффициенты уравнения парной линейной регрессии можно найти следующим образом:\n",
    "\n",
    "$$b = \\frac{\\overline{yx} - \\overline{y} \\cdot {\\overline{x}}}{\\overline{x^2} - (\\overline{x})^2}; a = \\overline{y} - b \\cdot {\\overline{x}}.$$\n",
    "\n",
    "$a$ - intercept значение пересечения линии с осью $Y$\n",
    "\n",
    "$b$ - slope задаёт наклон линии регрессии"
   ],
   "metadata": {
    "collapsed": false,
    "pycharm": {
     "name": "#%% md\n"
    }
   }
  },
  {
   "cell_type": "code",
   "execution_count": 4,
   "outputs": [
    {
     "name": "stdout",
     "output_type": "stream",
     "text": [
      "b slope = 2.620538882402765\n"
     ]
    }
   ],
   "source": [
    "b = ((x * y).mean() - x.mean() * y.mean()) / ((x ** 2).mean() - x.mean() ** 2)\n",
    "print(f'b slope = {b}')"
   ],
   "metadata": {
    "collapsed": false,
    "pycharm": {
     "name": "#%%\n"
    }
   }
  },
  {
   "cell_type": "code",
   "execution_count": 5,
   "outputs": [
    {
     "name": "stdout",
     "output_type": "stream",
     "text": [
      "a intercept = 444.1773573243596\n"
     ]
    }
   ],
   "source": [
    "a = ks.mean() - b * zp.mean()\n",
    "print(f'a intercept = {a}')"
   ],
   "metadata": {
    "collapsed": false,
    "pycharm": {
     "name": "#%%\n"
    }
   }
  },
  {
   "cell_type": "markdown",
   "source": [
    "Составим уравнение регрессии (коэффициенты округлены до сотых):\n",
    "\n",
    "$$y = 444.18 + 2.62 \\cdot x$$"
   ],
   "metadata": {
    "collapsed": false
   }
  },
  {
   "cell_type": "markdown",
   "source": [
    "Визуализация scatter plot прогнозного значения скоринга для зарплаты и отметим прямую линейной регрессии::"
   ],
   "metadata": {
    "collapsed": false
   }
  },
  {
   "cell_type": "code",
   "execution_count": 6,
   "outputs": [
    {
     "data": {
      "text/plain": "<Figure size 432x288 with 1 Axes>",
      "image/png": "[encoded data removed]"
     },
     "metadata": {
      "needs_background": "light"
     },
     "output_type": "display_data"
    }
   ],
   "source": [
    "f = lambda x: a + b * x\n",
    "y_pred = f(x)\n",
    "plt.scatter(x, y)\n",
    "plt.plot(x, y_pred, color='r')\n",
    "plt.xlabel('salary(zp)')\n",
    "plt.ylabel('scoring(ks)')\n",
    "plt.show()"
   ],
   "metadata": {
    "collapsed": false,
    "pycharm": {
     "name": "#%%\n"
    }
   }
  },
  {
   "cell_type": "markdown",
   "source": [
    "Найдем коэффициент детерминации $R^2$:\n",
    "\n",
    "$$R^{2} = {(r}_{\\mathit{XY}})^{2} ∈ [0;1]$$"
   ],
   "metadata": {
    "collapsed": false,
    "pycharm": {
     "name": "#%% md\n"
    }
   }
  },
  {
   "cell_type": "code",
   "execution_count": 7,
   "outputs": [
    {
     "name": "stdout",
     "output_type": "stream",
     "text": [
      "Коэффициент корреляции = 0.8874900920739162\n",
      "Коэффициент детерминации = 0.7876386635293682\n"
     ]
    }
   ],
   "source": [
    "r_xy = stats.pearsonr(x, y)[0]\n",
    "print(f'Коэффициент корреляции = {r_xy}')\n",
    "R2 = r_xy ** 2\n",
    "print(f'Коэффициент детерминации = {R2}')"
   ],
   "metadata": {
    "collapsed": false,
    "pycharm": {
     "name": "#%%\n"
    }
   }
  },
  {
   "cell_type": "markdown",
   "source": [
    "Качество модели оценим с помощью средней ошибки аппроксимации:\n",
    "$\\overline{A} = \\frac{1}{n} \\sum_{i=1}^n \\bigg|\\frac{y_i - z_i}{y_i}\\bigg|$"
   ],
   "metadata": {
    "collapsed": false
   }
  },
  {
   "cell_type": "code",
   "execution_count": 8,
   "outputs": [
    {
     "name": "stdout",
     "output_type": "stream",
     "text": [
      "A = 11.46925184356171\n"
     ]
    }
   ],
   "source": [
    "A_mean = 100 * np.mean(np.abs((y - y_pred) / y))\n",
    "print('A =', A_mean)"
   ],
   "metadata": {
    "collapsed": false,
    "pycharm": {
     "name": "#%%\n"
    }
   }
  },
  {
   "cell_type": "markdown",
   "source": [
    "Для оценки значимости уравнения регрессии воспользуемся F-критерием Фишера. Найдем фактическое значение $F -$ критерия $F_{fact}$):\n",
    "\n",
    "$$F_{fact} = \\frac{R^2}{1 - R^2} \\cdot \\frac{n-k-1}{k} > F_{crit},$$\n",
    "где:\n",
    "* $R^2$ – коэффициент детерминации,\n",
    "* $n$ – число наблюдений,\n",
    "* $k$ – число факторов,\n",
    "* $F_{crit}$ – критическое значение."
   ],
   "metadata": {
    "collapsed": false
   }
  },
  {
   "cell_type": "code",
   "execution_count": 9,
   "outputs": [
    {
     "name": "stdout",
     "output_type": "stream",
     "text": [
      "F_fact = 29.671640859664432\n"
     ]
    }
   ],
   "source": [
    "n = y.shape[0]\n",
    "k1 = 1\n",
    "k2 = n - k1 - 1\n",
    "F_fact = (R2 / (1 - R2)) * (k2 / k1)\n",
    "print('F_fact =', F_fact)"
   ],
   "metadata": {
    "collapsed": false,
    "pycharm": {
     "name": "#%%\n"
    }
   }
  },
  {
   "cell_type": "code",
   "execution_count": 10,
   "outputs": [
    {
     "name": "stdout",
     "output_type": "stream",
     "text": [
      "F_crit = 5.317655071578714\n"
     ]
    }
   ],
   "source": [
    "p = 0.95\n",
    "alpha = 1 - p\n",
    "F_crit = stats.f.ppf(1 - alpha, k1, k2)\n",
    "print('F_crit =', F_crit)"
   ],
   "metadata": {
    "collapsed": false,
    "pycharm": {
     "name": "#%%\n"
    }
   }
  },
  {
   "cell_type": "markdown",
   "source": [
    "Так как $F_{fact} = 29.67 > F_{crit} = 5.31$, уравнение регрессии статистически значимо.\n",
    "\n",
    "### Расчет без использования intercept"
   ],
   "metadata": {
    "collapsed": false
   }
  },
  {
   "cell_type": "code",
   "execution_count": 11,
   "outputs": [
    {
     "data": {
      "text/plain": "<Figure size 432x288 with 1 Axes>",
      "image/png": "[encoded data removed]"
     },
     "metadata": {
      "needs_background": "light"
     },
     "output_type": "display_data"
    }
   ],
   "source": [
    "a = 0\n",
    "f = lambda x: a + b * x\n",
    "y_pred = f(x)\n",
    "plt.scatter(x, y)\n",
    "plt.plot(x, y_pred, color='r')\n",
    "plt.xlabel('salary(zp)')\n",
    "plt.ylabel('scoring(ks)')\n",
    "plt.show()"
   ],
   "metadata": {
    "collapsed": false,
    "pycharm": {
     "name": "#%%\n"
    }
   }
  },
  {
   "cell_type": "code",
   "execution_count": 12,
   "outputs": [
    {
     "name": "stdout",
     "output_type": "stream",
     "text": [
      "A = 65.2875936982184\n"
     ]
    }
   ],
   "source": [
    "A_mean = 100 * np.mean(np.abs((y - y_pred) / y))\n",
    "print('A =', A_mean)"
   ],
   "metadata": {
    "collapsed": false,
    "pycharm": {
     "name": "#%%\n"
    }
   }
  },
  {
   "cell_type": "markdown",
   "source": [
    "Заметно, что качество модели стало значительно хуже"
   ],
   "metadata": {
    "collapsed": false,
    "pycharm": {
     "name": "#%% md\n"
    }
   }
  },
  {
   "cell_type": "markdown",
   "source": [
    "Еще раз проверимся:\n",
    "\n",
    "[$W = (X^T \\cdot X)^{-1} \\cdot X^T \\cdot y$](https://habr.com/ru/post/659415/)"
   ],
   "metadata": {
    "collapsed": false
   }
  },
  {
   "cell_type": "code",
   "execution_count": 13,
   "outputs": [
    {
     "name": "stdout",
     "output_type": "stream",
     "text": [
      "Коэффициенты [444.17735732   2.62053888]\n"
     ]
    }
   ],
   "source": [
    "X_train = np.vstack((np.ones((1, n)), x)).T\n",
    "w = np.linalg.inv(X_train.T @ X_train) @ X_train.T @ y\n",
    "\n",
    "print(f'Коэффициенты {w}')"
   ],
   "metadata": {
    "collapsed": false,
    "pycharm": {
     "name": "#%%\n"
    }
   }
  },
  {
   "cell_type": "markdown",
   "source": [
    "## Задание 2*\n",
    "Посчитать коэффициент линейной регрессии при заработной плате (zp), используя градиентный спуск (без intercept)."
   ],
   "metadata": {
    "collapsed": false
   }
  },
  {
   "cell_type": "markdown",
   "source": [
    "Еще раз запишем уравнение ЛР, с которым будем работать:\n",
    "\n",
    "$y = a + b \\cdot x$\n",
    "\n",
    "Функция потерь:\n",
    "\n",
    "$\\text{MSE}=\\frac{\\sum _{i=0}^n (y_i-y){}^2}{n} = \\frac{\\sum _{i=0}^n (-a x-b+y_i){}^2}{n}$\n",
    "\n",
    "Найдем ч.п. -\n",
    "\n",
    "$\\frac{\\partial \\text{MSE}}{\\partial b} = \\frac{\\sum _{i=0}^n \\left(2 b x^2+2 a x-2 x y_i\\right)}{n}$;\n",
    "\n",
    "$\\frac{\\partial \\text{MSE}}{\\partial a} = \\frac{\\sum _{i=0}^n (2 b x+2 a-2 y_i)}{n}$\n",
    "\n",
    "Напищем класс, котороый будет считать регрессию градиентным спуском:"
   ],
   "metadata": {
    "collapsed": false,
    "pycharm": {
     "name": "#%% md\n"
    }
   }
  },
  {
   "cell_type": "code",
   "execution_count": 14,
   "outputs": [],
   "source": [
    "class GradientLinearRegression:\n",
    "    def __init__(self, fit_intercept=True):\n",
    "        self.fit_intercept = fit_intercept\n",
    "        self.X, self.y = None, None\n",
    "        self.n_samples, self.n_features = None, None\n",
    "        self.a, self.b = 0, 0\n",
    "        self.loss, self.losses = 0, []\n",
    "\n",
    "    def fit(self, X, y, learn_rate=0.01, max_iter=100):\n",
    "        self.X, self.y = X, y\n",
    "        self.n_samples, self.n_features = self.X.shape\n",
    "        self.b = np.zeros(shape=(self.n_features, 1))\n",
    "\n",
    "        for i in range(max_iter):\n",
    "            y_pred = self._predict()\n",
    "\n",
    "            self._calc_losses(y_pred)\n",
    "            self._show_answer(i)\n",
    "\n",
    "            grad_b = self._calc_gradient(y_pred)[0]\n",
    "            grad_a = self._calc_gradient(y_pred)[1]\n",
    "\n",
    "            self.b = self.b - learn_rate * grad_b\n",
    "            self.a = self.a - learn_rate * grad_a\n",
    "\n",
    "        return self.b, self.a, self.losses\n",
    "\n",
    "    def _predict(self):\n",
    "        y_p = self.X @ self.b + self.a\n",
    "        return y_p\n",
    "\n",
    "    def _show_answer(self, i):\n",
    "        if i % 100000 == 0:\n",
    "            if self.fit_intercept:\n",
    "                print(f\"iteration: {i},\"\n",
    "                      f\" b: {self.b[0][0]},\"\n",
    "                      f\" a:{self.a},\"\n",
    "                      f\" mse: {self.losses[i]}\")\n",
    "            else:\n",
    "                print(f\"iteration: {i},\"\n",
    "                      f\" b: {self.b[0][0]},\"\n",
    "                      f\" mse: {self.losses[i]}\")\n",
    "\n",
    "    def _calc_gradient(self, y_pred):\n",
    "        grad_b = (2 / self.n_samples) * np.sum((self.X.T @ (y_pred - self.y)))\n",
    "        grad_a = (2 / self.n_samples) * np.sum((y_pred - self.y)) if self.fit_intercept else 0\n",
    "        return grad_b, grad_a\n",
    "\n",
    "    def _calc_losses(self, y_pred):\n",
    "        self.loss = (1 / self.n_samples) * np.sum((y_pred - self.y) ** 2)\n",
    "        return self.losses.append(self.loss)"
   ],
   "metadata": {
    "collapsed": false,
    "pycharm": {
     "name": "#%%\n"
    }
   }
  },
  {
   "cell_type": "markdown",
   "source": [
    "Чтобы получить ответ, осталось написать функцию и вызвать её"
   ],
   "metadata": {
    "collapsed": false,
    "pycharm": {
     "name": "#%% md\n"
    }
   }
  },
  {
   "cell_type": "code",
   "execution_count": 15,
   "outputs": [],
   "source": [
    "def run_glr(X, y):\n",
    "    '''\n",
    "    Градиентный спуск (без intercept)\n",
    "    '''\n",
    "    glr = GradientLinearRegression(fit_intercept=False)\n",
    "    glr.fit(X[:, np.newaxis], y[:, np.newaxis], learn_rate=1.e-5, max_iter=100001)"
   ],
   "metadata": {
    "collapsed": false,
    "pycharm": {
     "name": "#%%\n"
    }
   }
  },
  {
   "cell_type": "code",
   "execution_count": 16,
   "outputs": [],
   "source": [
    "X = np.array([35, 45, 190, 200, 40, 70, 54, 150, 120, 110], dtype=np.float64)\n",
    "y = np.array([401, 574, 874, 919, 459, 739, 653, 902, 746, 832], dtype=np.float64)"
   ],
   "metadata": {
    "collapsed": false,
    "pycharm": {
     "name": "#%%\n"
    }
   }
  },
  {
   "cell_type": "code",
   "execution_count": 17,
   "outputs": [
    {
     "name": "stdout",
     "output_type": "stream",
     "text": [
      "iteration: 0, b: 0.0, mse: 534426.9\n",
      "iteration: 100000, b: 5.889820420132688, mse: 56516.858415719405\n"
     ]
    }
   ],
   "source": [
    "run_glr(X, y)"
   ],
   "metadata": {
    "collapsed": false,
    "pycharm": {
     "name": "#%%\n"
    }
   }
  },
  {
   "cell_type": "markdown",
   "source": [
    "## Задание 3*\n",
    "\n",
    "Произвести вычисления как в пункте 2, но с вычислением intercept. Учесть, что изменение коэффициентов должно производиться\n",
    "на каждом шаге одновременно (то есть изменение одного коэффициента не должно влиять на изменение другого во время одной итерации)."
   ],
   "metadata": {
    "collapsed": false
   }
  },
  {
   "cell_type": "markdown",
   "source": [
    "Класс уже написан во 2 задании, добавим пару ф-ий:"
   ],
   "metadata": {
    "collapsed": false,
    "pycharm": {
     "name": "#%% md\n"
    }
   }
  },
  {
   "cell_type": "code",
   "execution_count": 18,
   "outputs": [],
   "source": [
    "def run_intercept_glr(X, y):\n",
    "    '''\n",
    "    Градиентный спуск (с intercept)\n",
    "    '''\n",
    "    glr = GradientLinearRegression(fit_intercept=True)\n",
    "    glr.fit(X[:, np.newaxis], y[:, np.newaxis], learn_rate=1.e-5, max_iter=900001)"
   ],
   "metadata": {
    "collapsed": false,
    "pycharm": {
     "name": "#%%\n"
    }
   }
  },
  {
   "cell_type": "code",
   "execution_count": 19,
   "outputs": [
    {
     "name": "stdout",
     "output_type": "stream",
     "text": [
      "iteration: 0, b: 0.0, a:0, mse: 534426.9\n",
      "iteration: 100000, b: 4.5888727556525994, a:176.75675408938184, mse: 24610.95054647255\n",
      "iteration: 200000, b: 3.8057060229667785, a:283.1588858286581, mse: 13047.171181713313\n",
      "iteration: 300000, b: 3.3341480775509242, a:347.2254102822301, mse: 8854.783194337844\n",
      "iteration: 400000, b: 3.0502150571553828, a:385.80094902817507, mse: 7334.854762440256\n",
      "iteration: 500000, b: 2.879254179802643, a:409.0279338261184, mse: 6783.81262486905\n",
      "iteration: 600000, b: 2.7763157419115196, a:423.0132945065502, mse: 6584.035167584433\n",
      "iteration: 700000, b: 2.71433476614946, a:431.43411688462385, mse: 6511.606890837752\n",
      "iteration: 800000, b: 2.677014971570133, a:436.50443656699116, mse: 6485.348396291911\n",
      "iteration: 900000, b: 2.6545440915892606, a:439.5573618665921, mse: 6475.82851584208\n"
     ]
    }
   ],
   "source": [
    "run_intercept_glr(X, y)"
   ],
   "metadata": {
    "collapsed": false,
    "pycharm": {
     "name": "#%%\n"
    }
   }
  }
 ],
 "metadata": {
  "kernelspec": {
   "display_name": "Python 3",
   "language": "python",
   "name": "python3"
  },
  "language_info": {
   "codemirror_mode": {
    "name": "ipython",
    "version": 2
   },
   "file_extension": ".py",
   "mimetype": "text/x-python",
   "name": "python",
   "nbconvert_exporter": "python",
   "pygments_lexer": "ipython2",
   "version": "2.7.6"
  }
 },
 "nbformat": 4,
 "nbformat_minor": 0
}