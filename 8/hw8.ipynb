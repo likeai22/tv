{
 "cells": [
  {
   "cell_type": "markdown",
   "source": [
    "Провести дисперсионный анализ для определения того, есть ли различия среднего роста среди взрослых футболистов, хоккеистов и штангистов. Даны значения роста в трех группах случайно выбранных спортсменов: Футболисты: 173, 175, 180, 178, 177, 185, 183, 182. Хоккеисты: 177, 179, 180, 188, 177, 172, 171, 184, 180. Штангисты: 172, 173, 169, 177, 166, 180, 178, 177, 172, 166, 170. L = 0.05\n",
    "Выполняется в программе.\n",
    "\n"
   ],
   "metadata": {
    "collapsed": false
   }
  },
  {
   "cell_type": "code",
   "execution_count": 1,
   "outputs": [],
   "source": [
    "import pandas as pd\n",
    "from scipy import stats\n",
    "import numpy as np"
   ],
   "metadata": {
    "collapsed": false,
    "pycharm": {
     "name": "#%%\n"
    }
   }
  },
  {
   "cell_type": "code",
   "execution_count": 2,
   "outputs": [],
   "source": [
    "array1 = np.array([173, 175, 180, 178, 177, 185, 183, 182], dtype=np.float64)\n",
    "array2 = np.array([177, 179, 180, 188, 177, 172, 171, 184, 180], dtype=np.float64)\n",
    "array3 = np.array([172, 173, 169, 177, 166, 180, 178, 177, 172, 166, 170], dtype=np.float64)\n"
   ],
   "metadata": {
    "collapsed": false,
    "pycharm": {
     "name": "#%%\n"
    }
   }
  },
  {
   "cell_type": "code",
   "execution_count": 3,
   "outputs": [],
   "source": [
    "data = {'Футболисты': array1, 'Хоккеисты': array2, 'Штангисты': array3}\n",
    "df_data = pd.DataFrame.from_dict(data, orient='index').T"
   ],
   "metadata": {
    "collapsed": false,
    "pycharm": {
     "name": "#%%\n"
    }
   }
  },
  {
   "cell_type": "code",
   "execution_count": 4,
   "outputs": [
    {
     "name": "stdout",
     "output_type": "stream",
     "text": [
      "Нулевая гипотеза: Футболисты==Хоккеисты==Штангисты\n",
      "Альтернативная гипотеза: !(Футболисты=Хоккеисты=Штангисты)\n"
     ]
    }
   ],
   "source": [
    "print('Нулевая гипотеза:', '=='.join(df_data))\n",
    "print('Альтернативная гипотеза:', f'!({\"=\".join(df_data)})')"
   ],
   "metadata": {
    "collapsed": false,
    "pycharm": {
     "name": "#%%\n"
    }
   }
  },
  {
   "cell_type": "code",
   "execution_count": 5,
   "outputs": [
    {
     "data": {
      "text/plain": "            count        mean       std    min    25%    50%     75%    max\nФутболисты    8.0  179.125000  4.120940  173.0  176.5  179.0  182.25  185.0\nХоккеисты     9.0  178.666667  5.338539  171.0  177.0  179.0  180.00  188.0\nШтангисты    11.0  172.727273  4.797727  166.0  169.5  172.0  177.00  180.0",
      "text/html": "<div>\n<style scoped>\n    .dataframe tbody tr th:only-of-type {\n        vertical-align: middle;\n    }\n\n    .dataframe tbody tr th {\n        vertical-align: top;\n    }\n\n    .dataframe thead th {\n        text-align: right;\n    }\n</style>\n<table border=\"1\" class=\"dataframe\">\n  <thead>\n    <tr style=\"text-align: right;\">\n      <th></th>\n      <th>count</th>\n      <th>mean</th>\n      <th>std</th>\n      <th>min</th>\n      <th>25%</th>\n      <th>50%</th>\n      <th>75%</th>\n      <th>max</th>\n    </tr>\n  </thead>\n  <tbody>\n    <tr>\n      <th>Футболисты</th>\n      <td>8.0</td>\n      <td>179.125000</td>\n      <td>4.120940</td>\n      <td>173.0</td>\n      <td>176.5</td>\n      <td>179.0</td>\n      <td>182.25</td>\n      <td>185.0</td>\n    </tr>\n    <tr>\n      <th>Хоккеисты</th>\n      <td>9.0</td>\n      <td>178.666667</td>\n      <td>5.338539</td>\n      <td>171.0</td>\n      <td>177.0</td>\n      <td>179.0</td>\n      <td>180.00</td>\n      <td>188.0</td>\n    </tr>\n    <tr>\n      <th>Штангисты</th>\n      <td>11.0</td>\n      <td>172.727273</td>\n      <td>4.797727</td>\n      <td>166.0</td>\n      <td>169.5</td>\n      <td>172.0</td>\n      <td>177.00</td>\n      <td>180.0</td>\n    </tr>\n  </tbody>\n</table>\n</div>"
     },
     "execution_count": 5,
     "metadata": {},
     "output_type": "execute_result"
    }
   ],
   "source": [
    "# описательные статистики\n",
    "\n",
    "df_data.describe().transpose()"
   ],
   "metadata": {
    "collapsed": false,
    "pycharm": {
     "name": "#%%\n"
    }
   }
  },
  {
   "cell_type": "code",
   "execution_count": 6,
   "outputs": [
    {
     "data": {
      "text/plain": "                    mx        sd     n        se\nФутболисты  179.125000  4.120940   8.0  1.456972\nХоккеисты   178.666667  5.338539   9.0  1.779513\nШтангисты   172.727273  4.797727  11.0  1.446569",
      "text/html": "<div>\n<style scoped>\n    .dataframe tbody tr th:only-of-type {\n        vertical-align: middle;\n    }\n\n    .dataframe tbody tr th {\n        vertical-align: top;\n    }\n\n    .dataframe thead th {\n        text-align: right;\n    }\n</style>\n<table border=\"1\" class=\"dataframe\">\n  <thead>\n    <tr style=\"text-align: right;\">\n      <th></th>\n      <th>mx</th>\n      <th>sd</th>\n      <th>n</th>\n      <th>se</th>\n    </tr>\n  </thead>\n  <tbody>\n    <tr>\n      <th>Футболисты</th>\n      <td>179.125000</td>\n      <td>4.120940</td>\n      <td>8.0</td>\n      <td>1.456972</td>\n    </tr>\n    <tr>\n      <th>Хоккеисты</th>\n      <td>178.666667</td>\n      <td>5.338539</td>\n      <td>9.0</td>\n      <td>1.779513</td>\n    </tr>\n    <tr>\n      <th>Штангисты</th>\n      <td>172.727273</td>\n      <td>4.797727</td>\n      <td>11.0</td>\n      <td>1.446569</td>\n    </tr>\n  </tbody>\n</table>\n</div>"
     },
     "execution_count": 6,
     "metadata": {},
     "output_type": "execute_result"
    }
   ],
   "source": [
    "df = df_data.agg(\n",
    "    ['mean', 'std', 'count', 'sem']).transpose()\n",
    "df.columns = ['mx', 'sd', 'n', 'se']\n",
    "\n",
    "df"
   ],
   "metadata": {
    "collapsed": false,
    "pycharm": {
     "name": "#%%\n"
    }
   }
  },
  {
   "cell_type": "code",
   "execution_count": 7,
   "outputs": [
    {
     "data": {
      "text/plain": "                    mx        sd     n        se  interval\nФутболисты  179.125000  4.120940   8.0  1.456972  2.875147\nХоккеисты   178.666667  5.338539   9.0  1.779513  3.511702\nШтангисты   172.727273  4.797727  11.0  1.446569  2.855346",
      "text/html": "<div>\n<style scoped>\n    .dataframe tbody tr th:only-of-type {\n        vertical-align: middle;\n    }\n\n    .dataframe tbody tr th {\n        vertical-align: top;\n    }\n\n    .dataframe thead th {\n        text-align: right;\n    }\n</style>\n<table border=\"1\" class=\"dataframe\">\n  <thead>\n    <tr style=\"text-align: right;\">\n      <th></th>\n      <th>mx</th>\n      <th>sd</th>\n      <th>n</th>\n      <th>se</th>\n      <th>interval</th>\n    </tr>\n  </thead>\n  <tbody>\n    <tr>\n      <th>Футболисты</th>\n      <td>179.125000</td>\n      <td>4.120940</td>\n      <td>8.0</td>\n      <td>1.456972</td>\n      <td>2.875147</td>\n    </tr>\n    <tr>\n      <th>Хоккеисты</th>\n      <td>178.666667</td>\n      <td>5.338539</td>\n      <td>9.0</td>\n      <td>1.779513</td>\n      <td>3.511702</td>\n    </tr>\n    <tr>\n      <th>Штангисты</th>\n      <td>172.727273</td>\n      <td>4.797727</td>\n      <td>11.0</td>\n      <td>1.446569</td>\n      <td>2.855346</td>\n    </tr>\n  </tbody>\n</table>\n</div>"
     },
     "execution_count": 7,
     "metadata": {},
     "output_type": "execute_result"
    }
   ],
   "source": [
    "# 95% интервал отклонения среднего\n",
    "p = 0.95\n",
    "K = stats.t.ppf((1 + p) / 2, df['mx'] - 1)\n",
    "df['interval'] = K * df['se']\n",
    "\n",
    "df"
   ],
   "metadata": {
    "collapsed": false,
    "pycharm": {
     "name": "#%%\n"
    }
   }
  },
  {
   "cell_type": "code",
   "execution_count": 8,
   "outputs": [
    {
     "data": {
      "text/plain": "<AxesSubplot:>"
     },
     "execution_count": 8,
     "metadata": {},
     "output_type": "execute_result"
    },
    {
     "data": {
      "text/plain": "<Figure size 432x288 with 1 Axes>",
      "image/png": "[encoded data removed]"
     },
     "metadata": {
      "needs_background": "light"
     },
     "output_type": "display_data"
    }
   ],
   "source": [
    "# boxplot для групп\n",
    "df_data.boxplot()"
   ],
   "metadata": {
    "collapsed": false,
    "pycharm": {
     "name": "#%%\n"
    }
   }
  },
  {
   "cell_type": "code",
   "execution_count": 9,
   "outputs": [
    {
     "data": {
      "text/plain": "176.46428571428572"
     },
     "execution_count": 9,
     "metadata": {},
     "output_type": "execute_result"
    }
   ],
   "source": [
    "# общая средняя\n",
    "mx_df = df_data.values.flatten()\n",
    "mx_df = np.nanmean(mx_df)\n",
    "mx_df"
   ],
   "metadata": {
    "collapsed": false,
    "pycharm": {
     "name": "#%%\n"
    }
   }
  },
  {
   "cell_type": "code",
   "execution_count": 10,
   "outputs": [
    {
     "data": {
      "text/plain": "253.9074675324678"
     },
     "execution_count": 10,
     "metadata": {},
     "output_type": "execute_result"
    }
   ],
   "source": [
    "# отклонение групповых средний от общей средней\n",
    "ssb = sum(df_data[group].count() * (mx_group - mx_df) ** 2 for group, mx_group in df_data.mean().items())\n",
    "ssb"
   ],
   "metadata": {
    "collapsed": false,
    "pycharm": {
     "name": "#%%\n"
    }
   }
  },
  {
   "cell_type": "code",
   "execution_count": 11,
   "outputs": [
    {
     "data": {
      "text/plain": "577.0568181818182"
     },
     "execution_count": 11,
     "metadata": {},
     "output_type": "execute_result"
    }
   ],
   "source": [
    "# отклонения значений в внутри группы от средней группы\n",
    "ssw = sum(\n",
    "    np.nansum([(x - mx_group) ** 2 for x in df_data[group].values]) for group, mx_group in df_data.mean().items())\n",
    "\n",
    "ssw"
   ],
   "metadata": {
    "collapsed": false,
    "pycharm": {
     "name": "#%%\n"
    }
   }
  },
  {
   "cell_type": "code",
   "execution_count": 12,
   "outputs": [
    {
     "data": {
      "text/plain": "2"
     },
     "execution_count": 12,
     "metadata": {},
     "output_type": "execute_result"
    }
   ],
   "source": [
    "groups = df_data.shape[1]\n",
    "dfb = groups - 1\n",
    "dfb"
   ],
   "metadata": {
    "collapsed": false,
    "pycharm": {
     "name": "#%%\n"
    }
   }
  },
  {
   "cell_type": "code",
   "execution_count": 13,
   "outputs": [
    {
     "data": {
      "text/plain": "25"
     },
     "execution_count": 13,
     "metadata": {},
     "output_type": "execute_result"
    }
   ],
   "source": [
    "df_size = np.sum(df_data.count())\n",
    "dfw = df_size - groups\n",
    "dfw\n"
   ],
   "metadata": {
    "collapsed": false,
    "pycharm": {
     "name": "#%%\n"
    }
   }
  },
  {
   "cell_type": "code",
   "execution_count": 14,
   "outputs": [
    {
     "data": {
      "text/plain": "126.9537337662339"
     },
     "execution_count": 14,
     "metadata": {},
     "output_type": "execute_result"
    }
   ],
   "source": [
    "# межгрупповой средний квадрат\n",
    "m_ssb = ssb / dfb\n",
    "m_ssb"
   ],
   "metadata": {
    "collapsed": false,
    "pycharm": {
     "name": "#%%\n"
    }
   }
  },
  {
   "cell_type": "code",
   "execution_count": 15,
   "outputs": [
    {
     "data": {
      "text/plain": "23.08227272727273"
     },
     "execution_count": 15,
     "metadata": {},
     "output_type": "execute_result"
    }
   ],
   "source": [
    "# внутригрупповой средний квадрат\n",
    "m_ssw = ssw / dfw\n",
    "m_ssw"
   ],
   "metadata": {
    "collapsed": false,
    "pycharm": {
     "name": "#%%\n"
    }
   }
  },
  {
   "cell_type": "code",
   "execution_count": 16,
   "outputs": [
    {
     "data": {
      "text/plain": "5.500053450812598"
     },
     "execution_count": 16,
     "metadata": {},
     "output_type": "execute_result"
    }
   ],
   "source": [
    "f_value = m_ssb / m_ssw\n",
    "f_value"
   ],
   "metadata": {
    "collapsed": false,
    "pycharm": {
     "name": "#%%\n"
    }
   }
  },
  {
   "cell_type": "code",
   "execution_count": 17,
   "outputs": [
    {
     "name": "stdout",
     "output_type": "stream",
     "text": [
      "Результат: p = 0.010482206918698674\n",
      "Отклоняем нулевую гипотезу\n"
     ]
    }
   ],
   "source": [
    "p = stats.f.sf(f_value, dfb, dfw)\n",
    "print('Результат: p =', p)\n",
    "print('Отклоняем нулевую гипотезу') if p < 0.05 else print('Не отклоняем нулевую гипотезу')"
   ],
   "metadata": {
    "collapsed": false,
    "pycharm": {
     "name": "#%%\n"
    }
   }
  },
  {
   "cell_type": "code",
   "execution_count": 18,
   "outputs": [
    {
     "data": {
      "text/plain": "F_onewayResult(statistic=5.500053450812596, pvalue=0.010482206918698694)"
     },
     "execution_count": 18,
     "metadata": {},
     "output_type": "execute_result"
    }
   ],
   "source": [
    "# или все в одно действие\n",
    "stats.f_oneway(array1, array2, array3)"
   ],
   "metadata": {
    "collapsed": false,
    "pycharm": {
     "name": "#%%\n"
    }
   }
  },
  {
   "cell_type": "code",
   "execution_count": 18,
   "outputs": [],
   "source": [],
   "metadata": {
    "collapsed": false,
    "pycharm": {
     "name": "#%%\n"
    }
   }
  }
 ],
 "metadata": {
  "kernelspec": {
   "display_name": "Python 3",
   "language": "python",
   "name": "python3"
  },
  "language_info": {
   "codemirror_mode": {
    "name": "ipython",
    "version": 2
   },
   "file_extension": ".py",
   "mimetype": "text/x-python",
   "name": "python",
   "nbconvert_exporter": "python",
   "pygments_lexer": "ipython2",
   "version": "2.7.6"
  }
 },
 "nbformat": 4,
 "nbformat_minor": 0
}