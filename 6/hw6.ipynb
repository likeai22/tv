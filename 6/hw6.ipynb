{
 "cells": [
  {
   "cell_type": "markdown",
   "metadata": {
    "collapsed": true,
    "pycharm": {
     "name": "#%% md\n"
    }
   },
   "source": [
    "## Задание 1\n",
    "Даны значения величины заработной платы заемщиков банка (zp) и значения их поведенческого кредитного скоринга (ks):\n",
    "zp = [35, 45, 190, 200, 40, 70, 54, 150, 120, 110],\n",
    "ks = [401, 574, 874, 919, 459, 739, 653, 902, 746, 832].\n",
    "\n",
    "а) Найдите ковариацию этих двух величин с помощью элементарных действий, а затем с помощью функции cov из numpy. Полученные значения должны быть равны.\n",
    "\n",
    "б) Найдите коэффициент корреляции Пирсона с помощью ковариации и среднеквадратичных отклонений двух признаков, а затем с использованием функций из библиотек numpy и pandas."
   ]
  },
  {
   "cell_type": "markdown",
   "source": [
    "### а)\n",
    "\n",
    "Ковариацией $cov\\left(X,\\ Y\\right)$ случайных величин $X$ и $Y$ называется математическое ожидание произведения случайных величин $X-M\\left(X\\right)$ и $Y-M\\left(Y\\right)$:\n",
    "\n",
    "$$cov\\left(X,\\ Y\\right)=M\\left(\\left(X-M\\left(X\\right)\\right)\\left(Y-M\\left(Y\\right)\\right)\\right)$$\n",
    "\n",
    "### Несмещенная оценка для ковариации\n",
    "\n",
    "Для двух выборок $X_1,…,X_n$ и $Y_1,…,Y_n$ несмещенная оценка для ковариации случайных величин $X$ и $Y$ имеет вид:\n",
    "\n",
    "$$\\mathit{cov}_{\\mathit{XY}} = \\frac{\\sum{\\left(x_i - \\overline{X}\\right)\\left(y_i - \\overline{Y}\\right)}}{n - 1}$$\n",
    "\n",
    "Поскольку наш набор данных представляет собой небольшую выборку всего набора данных, мы используем $n - 1$ (нам известны только выборочные средние для обеих переменных)"
   ],
   "metadata": {
    "collapsed": false
   }
  },
  {
   "cell_type": "code",
   "execution_count": 56,
   "outputs": [],
   "source": [
    "def covariance(x_list, y_list) -> float:\n",
    "    assert len(x_list) == len(y_list)\n",
    "    n = len(x_list) - 1\n",
    "    mx = sum(x_list) / len(x_list)\n",
    "    my = sum(y_list) / len(y_list)\n",
    "    sub_x, sub_y = [_ - mx for _ in x_list], [_ - my for _ in y_list]\n",
    "    cov = sum([sub_x[_] * sub_y[_] for _ in range(len(sub_x))]) / n\n",
    "    return cov"
   ],
   "metadata": {
    "collapsed": false,
    "pycharm": {
     "name": "#%%\n"
    }
   }
  },
  {
   "cell_type": "code",
   "execution_count": 57,
   "outputs": [
    {
     "name": "stdout",
     "output_type": "stream",
     "text": [
      "covariance = 10175.377777777778\n"
     ]
    }
   ],
   "source": [
    "# выборки\n",
    "zp = [35, 45, 190, 200, 40, 70, 54, 150, 120, 110]\n",
    "ks = [401, 574, 874, 919, 459, 739, 653, 902, 746, 832]\n",
    "\n",
    "cov = covariance(zp, ks)\n",
    "print('covariance =', cov)"
   ],
   "metadata": {
    "collapsed": false,
    "pycharm": {
     "name": "#%%\n"
    }
   }
  },
  {
   "cell_type": "code",
   "execution_count": 58,
   "outputs": [
    {
     "name": "stdout",
     "output_type": "stream",
     "text": [
      "Коэффициент ковариации = 10175.377777777776\n",
      "для генеральной совокупности, коэффициент ковариации = 9157.84\n"
     ]
    }
   ],
   "source": [
    "import numpy as np\n",
    "\n",
    "x = np.array(zp)\n",
    "y = np.array(ks)\n",
    "\n",
    "# Ковариационная матрица\n",
    "cov = np.cov(x, y)[0, 1]\n",
    "print('Коэффициент ковариации =', cov)\n",
    "\n",
    "# cov_stat_pop = np.mean((x - x.mean()) * (y - y.mean()))\n",
    "# print('Для генеральной совокупности, коэффициент ковариации =', cov_stat_pop)\n",
    "# Для генеральной совокупности, коэффициент ковариации = 9157.84\n"
   ],
   "metadata": {
    "collapsed": false,
    "pycharm": {
     "name": "#%%\n"
    }
   }
  },
  {
   "cell_type": "code",
   "execution_count": 86,
   "outputs": [
    {
     "name": "stdout",
     "output_type": "stream",
     "text": [
      "Коэффициент ковариации = 10175.377777777778\n"
     ]
    }
   ],
   "source": [
    "import statistics as st\n",
    "\n",
    "cov = st.covariance(zp, ks)\n",
    "print('Коэффициент ковариации =', cov)"
   ],
   "metadata": {
    "collapsed": false,
    "pycharm": {
     "name": "#%%\n"
    }
   }
  },
  {
   "cell_type": "markdown",
   "source": [
    "### б)\n",
    "*Коэффициент корреляции Пирсона* — показатель силы и направления\n",
    "взаимосвязи двух количественных переменных, знак показывает направление взаимосвязи:\n",
    "$$ r(x, y) = \\frac{cov(x, y)}{\\sigma_x\\sigma_y}$$"
   ],
   "metadata": {
    "collapsed": false
   }
  },
  {
   "cell_type": "code",
   "execution_count": 60,
   "outputs": [
    {
     "name": "stdout",
     "output_type": "stream",
     "text": [
      "Коэффициент корреляции = 0.8874900920739162\n"
     ]
    }
   ],
   "source": [
    "# Стандартные отклонения\n",
    "n = len(zp)\n",
    "m_x = sum(([(i - sum(zp) / n) ** 2 for i in zp])) / (n - 1)\n",
    "m_y = sum(([(i - sum(ks) / n) ** 2 for i in ks])) / (n - 1)\n",
    "std_x = np.sqrt(m_x)\n",
    "std_y = np.sqrt(m_y)\n",
    "r_xy = cov / (std_x * std_y)\n",
    "print('Коэффициент корреляции =', r_xy)"
   ],
   "metadata": {
    "collapsed": false,
    "pycharm": {
     "name": "#%%\n"
    }
   }
  },
  {
   "cell_type": "code",
   "execution_count": 61,
   "outputs": [
    {
     "name": "stdout",
     "output_type": "stream",
     "text": [
      "Коэффициент корреляции = 0.8874900920739162\n"
     ]
    }
   ],
   "source": [
    "r_xy = cov / (np.std(zp, ddof=1) * np.std(ks, ddof=1))\n",
    "print('Коэффициент корреляции =', r_xy)"
   ],
   "metadata": {
    "collapsed": false,
    "pycharm": {
     "name": "#%%\n"
    }
   }
  },
  {
   "cell_type": "code",
   "execution_count": 89,
   "outputs": [
    {
     "name": "stdout",
     "output_type": "stream",
     "text": [
      "Коэффициент корреляции = 0.8874900920739162\n"
     ]
    }
   ],
   "source": [
    "from scipy import stats\n",
    "\n",
    "r_xy = stats.pearsonr(zp, ks)[0]\n",
    "print(f'Коэффициент корреляции = {r_xy}')"
   ],
   "metadata": {
    "collapsed": false,
    "pycharm": {
     "name": "#%%\n"
    }
   }
  },
  {
   "cell_type": "code",
   "execution_count": 82,
   "outputs": [
    {
     "data": {
      "text/plain": "    zp   ks\n0   35  401\n1   45  574\n2  190  874\n3  200  919\n4   40  459\n5   70  739\n6   54  653\n7  150  902\n8  120  746\n9  110  832",
      "text/html": "<div>\n<style scoped>\n    .dataframe tbody tr th:only-of-type {\n        vertical-align: middle;\n    }\n\n    .dataframe tbody tr th {\n        vertical-align: top;\n    }\n\n    .dataframe thead th {\n        text-align: right;\n    }\n</style>\n<table border=\"1\" class=\"dataframe\">\n  <thead>\n    <tr style=\"text-align: right;\">\n      <th></th>\n      <th>zp</th>\n      <th>ks</th>\n    </tr>\n  </thead>\n  <tbody>\n    <tr>\n      <th>0</th>\n      <td>35</td>\n      <td>401</td>\n    </tr>\n    <tr>\n      <th>1</th>\n      <td>45</td>\n      <td>574</td>\n    </tr>\n    <tr>\n      <th>2</th>\n      <td>190</td>\n      <td>874</td>\n    </tr>\n    <tr>\n      <th>3</th>\n      <td>200</td>\n      <td>919</td>\n    </tr>\n    <tr>\n      <th>4</th>\n      <td>40</td>\n      <td>459</td>\n    </tr>\n    <tr>\n      <th>5</th>\n      <td>70</td>\n      <td>739</td>\n    </tr>\n    <tr>\n      <th>6</th>\n      <td>54</td>\n      <td>653</td>\n    </tr>\n    <tr>\n      <th>7</th>\n      <td>150</td>\n      <td>902</td>\n    </tr>\n    <tr>\n      <th>8</th>\n      <td>120</td>\n      <td>746</td>\n    </tr>\n    <tr>\n      <th>9</th>\n      <td>110</td>\n      <td>832</td>\n    </tr>\n  </tbody>\n</table>\n</div>"
     },
     "execution_count": 82,
     "metadata": {},
     "output_type": "execute_result"
    }
   ],
   "source": [
    "import pandas as pd\n",
    "\n",
    "data = {'zp': zp,\n",
    "        'ks': ks\n",
    "        }\n",
    "\n",
    "df = pd.DataFrame(data)\n",
    "df"
   ],
   "metadata": {
    "collapsed": false,
    "pycharm": {
     "name": "#%%\n"
    }
   }
  },
  {
   "cell_type": "code",
   "execution_count": 81,
   "outputs": [
    {
     "name": "stdout",
     "output_type": "stream",
     "text": [
      "Коэффициенты корреляции\n"
     ]
    },
    {
     "data": {
      "text/plain": "         zp       ks\nzp  1.00000  0.88749\nks  0.88749  1.00000",
      "text/html": "<div>\n<style scoped>\n    .dataframe tbody tr th:only-of-type {\n        vertical-align: middle;\n    }\n\n    .dataframe tbody tr th {\n        vertical-align: top;\n    }\n\n    .dataframe thead th {\n        text-align: right;\n    }\n</style>\n<table border=\"1\" class=\"dataframe\">\n  <thead>\n    <tr style=\"text-align: right;\">\n      <th></th>\n      <th>zp</th>\n      <th>ks</th>\n    </tr>\n  </thead>\n  <tbody>\n    <tr>\n      <th>zp</th>\n      <td>1.00000</td>\n      <td>0.88749</td>\n    </tr>\n    <tr>\n      <th>ks</th>\n      <td>0.88749</td>\n      <td>1.00000</td>\n    </tr>\n  </tbody>\n</table>\n</div>"
     },
     "execution_count": 81,
     "metadata": {},
     "output_type": "execute_result"
    }
   ],
   "source": [
    "r_xy = df.corr()\n",
    "print(f'Коэффициенты корреляции')\n",
    "r_xy"
   ],
   "metadata": {
    "collapsed": false,
    "pycharm": {
     "name": "#%%\n"
    }
   }
  },
  {
   "cell_type": "code",
   "execution_count": 84,
   "outputs": [
    {
     "data": {
      "text/plain": "<AxesSubplot:>"
     },
     "execution_count": 84,
     "metadata": {},
     "output_type": "execute_result"
    },
    {
     "data": {
      "text/plain": "<Figure size 432x288 with 2 Axes>",
      "image/png": "[encoded data removed]"
     },
     "metadata": {
      "needs_background": "light"
     },
     "output_type": "display_data"
    }
   ],
   "source": [
    "import seaborn as sb\n",
    "\n",
    "sb.heatmap(r_xy,\n",
    "           xticklabels=r_xy.columns,\n",
    "           yticklabels=r_xy.columns,\n",
    "           cmap='RdBu_r',\n",
    "           annot=True,\n",
    "           linewidth=0.5)"
   ],
   "metadata": {
    "collapsed": false,
    "pycharm": {
     "name": "#%%\n"
    }
   }
  },
  {
   "cell_type": "code",
   "execution_count": 125,
   "outputs": [
    {
     "data": {
      "text/plain": "<Figure size 432x288 with 1 Axes>",
      "image/png": "[encoded data removed]"
     },
     "metadata": {
      "needs_background": "light"
     },
     "output_type": "display_data"
    }
   ],
   "source": [
    "import matplotlib.pyplot as plt\n",
    "\n",
    "plt.scatter(zp, ks)\n",
    "plt.grid()"
   ],
   "metadata": {
    "collapsed": false,
    "pycharm": {
     "name": "#%%\n"
    }
   }
  },
  {
   "cell_type": "markdown",
   "source": [
    "## Задание 2\n",
    "\n",
    "Измерены значения IQ выборки студентов, обучающихся в местных технических вузах: 131, 125, 115, 122, 131, 115, 107, 99, 125, 111. Известно, что в генеральной совокупности IQ распределен нормально. Найдите доверительный интервал для математического ожидания с надежностью 0.95."
   ],
   "metadata": {
    "collapsed": false,
    "pycharm": {
     "name": "#%% md\n"
    }
   }
  },
  {
   "cell_type": "code",
   "execution_count": 130,
   "outputs": [
    {
     "name": "stdout",
     "output_type": "stream",
     "text": [
      "[110.56; 125.64]\n"
     ]
    }
   ],
   "source": [
    "data = np.array([131, 125, 115, 122, 131, 115, 107, 99, 125, 111]).astype(float)\n",
    "p = 0.95\n",
    "n = data.size\n",
    "df = n - 1\n",
    "alpha = 1 - p\n",
    "\n",
    "mean = np.mean(data)\n",
    "std = np.std(data, ddof=1)\n",
    "se = std / n ** 0.5\n",
    "\n",
    "t_value = stats.t(df).ppf(1 - alpha / 2)\n",
    "\n",
    "# доверительный интервал\n",
    "c_i = (mean - t_value * se, mean + t_value * se)\n",
    "print('[%.2f; %.2f]' % c_i)"
   ],
   "metadata": {
    "collapsed": false,
    "pycharm": {
     "name": "#%%\n"
    }
   }
  },
  {
   "cell_type": "markdown",
   "source": [
    "Ответ: $(110.56; 125.64)$"
   ],
   "metadata": {
    "collapsed": false,
    "pycharm": {
     "name": "#%% md\n"
    }
   }
  },
  {
   "cell_type": "markdown",
   "source": [
    "## Задание 3\n",
    "\n",
    "Известно, что рост футболистов в сборной распределен нормально\n",
    "с дисперсией генеральной совокупности, равной 25 кв.см. Объем выборки равен 27, среднее выборочное составляет 174.2. Найдите доверительный интервал для математического ожидания с надежностью 0.95."
   ],
   "metadata": {
    "collapsed": false,
    "pycharm": {
     "name": "#%% md\n"
    }
   }
  },
  {
   "cell_type": "code",
   "execution_count": 134,
   "outputs": [
    {
     "name": "stdout",
     "output_type": "stream",
     "text": [
      "[172.31; 176.09]\n"
     ]
    }
   ],
   "source": [
    "p = 0.95\n",
    "mean = 174.2\n",
    "D = 25\n",
    "n = 27\n",
    "\n",
    "std = D ** 0.5\n",
    "se = std / n ** 0.5\n",
    "alpha = (1 - p) / 2\n",
    "z = stats.norm().isf(alpha)\n",
    "c_i = mean - z * se, mean + z * se\n",
    "print('[%.2f; %.2f]' % c_i)"
   ],
   "metadata": {
    "collapsed": false,
    "pycharm": {
     "name": "#%%\n"
    }
   }
  },
  {
   "cell_type": "markdown",
   "source": [
    "Ответ: $(172.31; 176.09)$"
   ],
   "metadata": {
    "collapsed": false
   }
  }
 ],
 "metadata": {
  "kernelspec": {
   "display_name": "Python 3",
   "language": "python",
   "name": "python3"
  },
  "language_info": {
   "codemirror_mode": {
    "name": "ipython",
    "version": 2
   },
   "file_extension": ".py",
   "mimetype": "text/x-python",
   "name": "python",
   "nbconvert_exporter": "python",
   "pygments_lexer": "ipython2",
   "version": "2.7.6"
  }
 },
 "nbformat": 4,
 "nbformat_minor": 0
}